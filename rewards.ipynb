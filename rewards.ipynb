{
 "cells": [
  {
   "cell_type": "code",
   "execution_count": 1,
   "metadata": {},
   "outputs": [],
   "source": [
    "import requests as r"
   ]
  },
  {
   "cell_type": "code",
   "execution_count": 2,
   "metadata": {},
   "outputs": [],
   "source": [
    "API = 'https://alamo.helium.foundation/api'"
   ]
  },
  {
   "cell_type": "code",
   "execution_count": 3,
   "metadata": {},
   "outputs": [],
   "source": [
    "data = r.get(f\"{API}/elections?limit=100\")"
   ]
  },
  {
   "cell_type": "code",
   "execution_count": 4,
   "metadata": {},
   "outputs": [],
   "source": [
    "reward_txn_block_heights = [x['start_height'] - 1 for x in data.json()['data']]"
   ]
  },
  {
   "cell_type": "code",
   "execution_count": 5,
   "metadata": {},
   "outputs": [
    {
     "name": "stdout",
     "output_type": "stream",
     "text": [
      "height: 112300, epoch_reward: 347222222211\n",
      "height: 112266, epoch_reward: 347222222292\n",
      "height: 112231, epoch_reward: 347222222207\n",
      "height: 112198, epoch_reward: 347222222118\n",
      "height: 112165, epoch_reward: 347222222353\n",
      "height: 112133, epoch_reward: 347222222349\n",
      "height: 112101, epoch_reward: 347222222296\n",
      "height: 112069, epoch_reward: 347222222241\n",
      "height: 112035, epoch_reward: 347222222210\n",
      "height: 112003, epoch_reward: 347222222358\n",
      "height: 111970, epoch_reward: 347222222113\n",
      "height: 111937, epoch_reward: 347222222203\n",
      "height: 111905, epoch_reward: 347222222121\n",
      "height: 111868, epoch_reward: 347222222142\n",
      "height: 111828, epoch_reward: 347222222210\n",
      "height: 111795, epoch_reward: 347222222157\n",
      "height: 111761, epoch_reward: 347222222230\n",
      "height: 111723, epoch_reward: 347222222198\n",
      "height: 111689, epoch_reward: 347222222224\n",
      "height: 111657, epoch_reward: 347222222279\n",
      "height: 111622, epoch_reward: 347222222175\n",
      "height: 111590, epoch_reward: 347222222165\n",
      "height: 111558, epoch_reward: 347222222303\n",
      "height: 111526, epoch_reward: 347222222134\n",
      "height: 111493, epoch_reward: 347222222315\n",
      "height: 111460, epoch_reward: 347222222157\n",
      "height: 111427, epoch_reward: 347222222252\n",
      "height: 111395, epoch_reward: 347222222114\n",
      "height: 111362, epoch_reward: 347222222148\n",
      "height: 111330, epoch_reward: 347222222202\n",
      "height: 111292, epoch_reward: 347222222139\n",
      "height: 111259, epoch_reward: 347222222334\n",
      "height: 111214, epoch_reward: 347222222235\n",
      "height: 111182, epoch_reward: 347222222241\n",
      "height: 111150, epoch_reward: 347222222307\n",
      "height: 111117, epoch_reward: 347222222093\n",
      "height: 111084, epoch_reward: 347222222210\n",
      "height: 111049, epoch_reward: 347222222183\n",
      "height: 111016, epoch_reward: 347222222301\n",
      "height: 110983, epoch_reward: 347222222155\n",
      "height: 110950, epoch_reward: 347222222174\n",
      "height: 110903, epoch_reward: 347222222258\n",
      "height: 110860, epoch_reward: 347222222197\n",
      "height: 110816, epoch_reward: 347222222241\n",
      "height: 110691, epoch_reward: 347222222221\n",
      "height: 110656, epoch_reward: 347222222240\n",
      "height: 110618, epoch_reward: 347222222126\n",
      "height: 110582, epoch_reward: 347222222135\n",
      "height: 110546, epoch_reward: 347222222153\n",
      "height: 110513, epoch_reward: 347222222174\n",
      "height: 110477, epoch_reward: 347222222194\n",
      "height: 110445, epoch_reward: 347222222260\n",
      "height: 110406, epoch_reward: 347222222321\n",
      "height: 110372, epoch_reward: 347222222126\n",
      "height: 110337, epoch_reward: 347222222212\n",
      "height: 110303, epoch_reward: 347222222162\n",
      "height: 110269, epoch_reward: 347222222281\n",
      "height: 110237, epoch_reward: 347222222098\n",
      "height: 110196, epoch_reward: 347222222140\n",
      "height: 110162, epoch_reward: 347222222178\n",
      "height: 110123, epoch_reward: 347222222306\n",
      "height: 110068, epoch_reward: 347222222223\n",
      "height: 110033, epoch_reward: 347222222110\n",
      "height: 110001, epoch_reward: 347222222257\n",
      "height: 109965, epoch_reward: 347222222252\n",
      "height: 109928, epoch_reward: 347222222137\n",
      "height: 109895, epoch_reward: 347222222222\n",
      "height: 109862, epoch_reward: 347222222202\n",
      "height: 109829, epoch_reward: 347222222181\n",
      "height: 109797, epoch_reward: 347222222125\n",
      "height: 109761, epoch_reward: 347222222279\n",
      "height: 109727, epoch_reward: 347222222243\n",
      "height: 109693, epoch_reward: 347222222315\n",
      "height: 109661, epoch_reward: 347222222153\n",
      "height: 109623, epoch_reward: 347222222348\n",
      "height: 109589, epoch_reward: 347222222212\n",
      "height: 109546, epoch_reward: 347222222335\n",
      "height: 109512, epoch_reward: 347222222259\n",
      "height: 109479, epoch_reward: 347222222288\n",
      "height: 109445, epoch_reward: 347222222260\n",
      "height: 109411, epoch_reward: 347222222248\n",
      "height: 109377, epoch_reward: 347222222283\n",
      "height: 109343, epoch_reward: 347222222306\n",
      "height: 109292, epoch_reward: 347222222150\n",
      "height: 109254, epoch_reward: 347222222093\n",
      "height: 109162, epoch_reward: 347222222327\n",
      "height: 109119, epoch_reward: 347222222245\n",
      "height: 109071, epoch_reward: 347222222128\n",
      "height: 109033, epoch_reward: 347222222193\n",
      "height: 108996, epoch_reward: 347222222311\n",
      "height: 108964, epoch_reward: 347222222327\n",
      "height: 108929, epoch_reward: 347222222353\n",
      "height: 108875, epoch_reward: 347222222380\n",
      "height: 108805, epoch_reward: 347222222309\n",
      "height: 108769, epoch_reward: 347222222334\n",
      "height: 108728, epoch_reward: 347222222164\n",
      "height: 108696, epoch_reward: 347222222139\n",
      "height: 108661, epoch_reward: 347222222294\n",
      "height: 108627, epoch_reward: 347222222247\n",
      "height: 108593, epoch_reward: 347222222240\n"
     ]
    }
   ],
   "source": [
    "for h in reward_txn_block_heights:\n",
    "    resp = r.get(f\"{API}/blocks/{h}/transactions\")\n",
    "    reward = resp.json()['data'][1]\n",
    "    reward_hash = reward['hash']\n",
    "    resp = r.get(f\"{API}/rewards/{reward_hash}\")\n",
    "    tot = resp.json()['data']\n",
    "    print(f\"height: {h}, epoch_reward: {tot}\")"
   ]
  },
  {
   "cell_type": "code",
   "execution_count": null,
   "metadata": {},
   "outputs": [],
   "source": []
  }
 ],
 "metadata": {
  "kernelspec": {
   "display_name": "Python [conda env:rewards] *",
   "language": "python",
   "name": "conda-env-rewards-py"
  },
  "language_info": {
   "codemirror_mode": {
    "name": "ipython",
    "version": 3
   },
   "file_extension": ".py",
   "mimetype": "text/x-python",
   "name": "python",
   "nbconvert_exporter": "python",
   "pygments_lexer": "ipython3",
   "version": "3.7.5"
  }
 },
 "nbformat": 4,
 "nbformat_minor": 2
}
